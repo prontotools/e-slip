{
 "cells": [
  {
   "cell_type": "markdown",
   "metadata": {},
   "source": [
    "![](pronto-logo-header.png)\n",
    "\n",
    "# E-Slip for Pronto Group\n",
    "\n",
    "### Installing E-Slip via Pip\n",
    "\n",
    "Run `pip install -r requirements.txt`.\n",
    "\n",
    "### Installing E-Slip via Anaconda Navigator\n",
    "\n",
    "1. Go to Anaconda Navigator.\n",
    "2. Go to Environments on the left menu.\n",
    "3. Change the dropdown menu from \"Installed\" to \"All\".\n",
    "4. Search for `fpdf` and mark it for installation.\n",
    "5. Apply."
   ]
  },
  {
   "cell_type": "markdown",
   "metadata": {},
   "source": [
    "### Execute the code below to generate the Pronto slips:\n",
    "\n",
    "```python\n",
    "import slip\n",
    "csv_file = 'example.csv'\n",
    "slip.read_csv(csv_file)\n",
    "```"
   ]
  },
  {
   "cell_type": "code",
   "execution_count": null,
   "metadata": {
    "collapsed": false
   },
   "outputs": [],
   "source": [
    "import slip\n",
    "csv_file = 'example.csv'\n",
    "slip.read_csv(csv_file)"
   ]
  }
 ],
 "metadata": {
  "kernelspec": {
   "display_name": "Python [Root]",
   "language": "python",
   "name": "Python [Root]"
  },
  "language_info": {
   "codemirror_mode": {
    "name": "ipython",
    "version": 3
   },
   "file_extension": ".py",
   "mimetype": "text/x-python",
   "name": "python",
   "nbconvert_exporter": "python",
   "pygments_lexer": "ipython3",
   "version": "3.5.1"
  }
 },
 "nbformat": 4,
 "nbformat_minor": 0
}
